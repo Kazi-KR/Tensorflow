{
 "cells": [
  {
   "cell_type": "code",
   "execution_count": 1,
   "metadata": {},
   "outputs": [],
   "source": [
    "import tensorflow as tf"
   ]
  },
  {
   "cell_type": "code",
   "execution_count": 2,
   "metadata": {},
   "outputs": [],
   "source": [
    "X=tf.constant([-4.,-2.,0.,6.,8.,10.,12.,16.])\n",
    "y=tf.constant([2.,4.,6.,12.,14.,16.,18.,22.])"
   ]
  },
  {
   "cell_type": "code",
   "execution_count": 3,
   "metadata": {},
   "outputs": [
    {
     "data": {
      "text/plain": [
       "TensorShape([])"
      ]
     },
     "execution_count": 3,
     "metadata": {},
     "output_type": "execute_result"
    }
   ],
   "source": [
    "X[0].shape"
   ]
  },
  {
   "cell_type": "code",
   "execution_count": 4,
   "metadata": {},
   "outputs": [],
   "source": [
    "import matplotlib.pyplot as plt"
   ]
  },
  {
   "cell_type": "code",
   "execution_count": 5,
   "metadata": {},
   "outputs": [
    {
     "data": {
      "text/plain": [
       "<matplotlib.collections.PathCollection at 0x2fe54c05190>"
      ]
     },
     "execution_count": 5,
     "metadata": {},
     "output_type": "execute_result"
    },
    {
     "data": {
      "image/png": "[encoded data removed]",
      "text/plain": [
       "<Figure size 432x288 with 1 Axes>"
      ]
     },
     "metadata": {
      "needs_background": "light"
     },
     "output_type": "display_data"
    }
   ],
   "source": [
    "plt.scatter(X,y)"
   ]
  },
  {
   "cell_type": "code",
   "execution_count": 6,
   "metadata": {},
   "outputs": [],
   "source": [
    "#model=tf.keras.Sequential([\n",
    "#    tf.keras.layers.Dense(100,activation='relu'),\n",
    "#    tf.keras.layers.Dense(1)\n",
    "#])"
   ]
  },
  {
   "cell_type": "code",
   "execution_count": 7,
   "metadata": {},
   "outputs": [],
   "source": [
    "#model=tf.keras.Sequential()\n",
    "#model.add(tf.keras.layers.Dense(100,activation='relu'))\n",
    "#model.add(tf.keras.layers.Dense(1,input_shape=(1,)))\n",
    "#model\n"
   ]
  },
  {
   "cell_type": "code",
   "execution_count": 8,
   "metadata": {},
   "outputs": [
    {
     "name": "stdout",
     "output_type": "stream",
     "text": [
      "Epoch 1/100\n",
      "1/1 [==============================] - 3s 3s/step - loss: 11.0262 - mae: 11.0262\n",
      "Epoch 2/100\n",
      "1/1 [==============================] - 0s 5ms/step - loss: 11.0251 - mae: 11.0251\n",
      "Epoch 3/100\n",
      "1/1 [==============================] - 0s 3ms/step - loss: 11.0240 - mae: 11.0240\n",
      "Epoch 4/100\n",
      "1/1 [==============================] - 0s 5ms/step - loss: 11.0229 - mae: 11.0229\n",
      "Epoch 5/100\n",
      "1/1 [==============================] - 0s 4ms/step - loss: 11.0218 - mae: 11.0218\n",
      "Epoch 6/100\n",
      "1/1 [==============================] - 0s 5ms/step - loss: 11.0207 - mae: 11.0207\n",
      "Epoch 7/100\n",
      "1/1 [==============================] - 0s 4ms/step - loss: 11.0196 - mae: 11.0196\n",
      "Epoch 8/100\n",
      "1/1 [==============================] - 0s 6ms/step - loss: 11.0185 - mae: 11.0185\n",
      "Epoch 9/100\n",
      "1/1 [==============================] - 0s 5ms/step - loss: 11.0174 - mae: 11.0174\n",
      "Epoch 10/100\n",
      "1/1 [==============================] - 0s 4ms/step - loss: 11.0163 - mae: 11.0163\n",
      "Epoch 11/100\n",
      "1/1 [==============================] - 0s 4ms/step - loss: 11.0152 - mae: 11.0152\n",
      "Epoch 12/100\n",
      "1/1 [==============================] - 0s 5ms/step - loss: 11.0141 - mae: 11.0141\n",
      "Epoch 13/100\n",
      "1/1 [==============================] - 0s 4ms/step - loss: 11.0130 - mae: 11.0130\n",
      "Epoch 14/100\n",
      "1/1 [==============================] - 0s 5ms/step - loss: 11.0119 - mae: 11.0119\n",
      "Epoch 15/100\n",
      "1/1 [==============================] - 0s 4ms/step - loss: 11.0108 - mae: 11.0108\n",
      "Epoch 16/100\n",
      "1/1 [==============================] - 0s 4ms/step - loss: 11.0097 - mae: 11.0097\n",
      "Epoch 17/100\n",
      "1/1 [==============================] - 0s 4ms/step - loss: 11.0086 - mae: 11.0086\n",
      "Epoch 18/100\n",
      "1/1 [==============================] - 0s 4ms/step - loss: 11.0075 - mae: 11.0075\n",
      "Epoch 19/100\n",
      "1/1 [==============================] - 0s 5ms/step - loss: 11.0064 - mae: 11.0064\n",
      "Epoch 20/100\n",
      "1/1 [==============================] - 0s 4ms/step - loss: 11.0053 - mae: 11.0053\n",
      "Epoch 21/100\n",
      "1/1 [==============================] - 0s 4ms/step - loss: 11.0042 - mae: 11.0042\n",
      "Epoch 22/100\n",
      "1/1 [==============================] - 0s 5ms/step - loss: 11.0031 - mae: 11.0031\n",
      "Epoch 23/100\n",
      "1/1 [==============================] - 0s 4ms/step - loss: 11.0020 - mae: 11.0020\n",
      "Epoch 24/100\n",
      "1/1 [==============================] - 0s 4ms/step - loss: 11.0009 - mae: 11.0009\n",
      "Epoch 25/100\n",
      "1/1 [==============================] - 0s 5ms/step - loss: 10.9997 - mae: 10.9997\n",
      "Epoch 26/100\n",
      "1/1 [==============================] - 0s 5ms/step - loss: 10.9986 - mae: 10.9986\n",
      "Epoch 27/100\n",
      "1/1 [==============================] - 0s 5ms/step - loss: 10.9975 - mae: 10.9975\n",
      "Epoch 28/100\n",
      "1/1 [==============================] - 0s 4ms/step - loss: 10.9964 - mae: 10.9964\n",
      "Epoch 29/100\n",
      "1/1 [==============================] - 0s 4ms/step - loss: 10.9953 - mae: 10.9953\n",
      "Epoch 30/100\n",
      "1/1 [==============================] - 0s 4ms/step - loss: 10.9942 - mae: 10.9942\n",
      "Epoch 31/100\n",
      "1/1 [==============================] - 0s 4ms/step - loss: 10.9931 - mae: 10.9931\n",
      "Epoch 32/100\n",
      "1/1 [==============================] - 0s 4ms/step - loss: 10.9920 - mae: 10.9920\n",
      "Epoch 33/100\n",
      "1/1 [==============================] - 0s 6ms/step - loss: 10.9909 - mae: 10.9909\n",
      "Epoch 34/100\n",
      "1/1 [==============================] - 0s 6ms/step - loss: 10.9898 - mae: 10.9898\n",
      "Epoch 35/100\n",
      "1/1 [==============================] - 0s 4ms/step - loss: 10.9887 - mae: 10.9887\n",
      "Epoch 36/100\n",
      "1/1 [==============================] - 0s 4ms/step - loss: 10.9876 - mae: 10.9876\n",
      "Epoch 37/100\n",
      "1/1 [==============================] - 0s 4ms/step - loss: 10.9865 - mae: 10.9865\n",
      "Epoch 38/100\n",
      "1/1 [==============================] - 0s 4ms/step - loss: 10.9854 - mae: 10.9854\n",
      "Epoch 39/100\n",
      "1/1 [==============================] - 0s 21ms/step - loss: 10.9843 - mae: 10.9843\n",
      "Epoch 40/100\n",
      "1/1 [==============================] - 0s 5ms/step - loss: 10.9832 - mae: 10.9832\n",
      "Epoch 41/100\n",
      "1/1 [==============================] - 0s 5ms/step - loss: 10.9821 - mae: 10.9821\n",
      "Epoch 42/100\n",
      "1/1 [==============================] - 0s 4ms/step - loss: 10.9810 - mae: 10.9810\n",
      "Epoch 43/100\n",
      "1/1 [==============================] - 0s 4ms/step - loss: 10.9799 - mae: 10.9799\n",
      "Epoch 44/100\n",
      "1/1 [==============================] - 0s 4ms/step - loss: 10.9788 - mae: 10.9788\n",
      "Epoch 45/100\n",
      "1/1 [==============================] - 0s 4ms/step - loss: 10.9777 - mae: 10.9777\n",
      "Epoch 46/100\n",
      "1/1 [==============================] - 0s 5ms/step - loss: 10.9766 - mae: 10.9766\n",
      "Epoch 47/100\n",
      "1/1 [==============================] - 0s 5ms/step - loss: 10.9755 - mae: 10.9755\n",
      "Epoch 48/100\n",
      "1/1 [==============================] - 0s 5ms/step - loss: 10.9744 - mae: 10.9744\n",
      "Epoch 49/100\n",
      "1/1 [==============================] - 0s 5ms/step - loss: 10.9733 - mae: 10.9733\n",
      "Epoch 50/100\n",
      "1/1 [==============================] - 0s 5ms/step - loss: 10.9722 - mae: 10.9722\n",
      "Epoch 51/100\n",
      "1/1 [==============================] - 0s 4ms/step - loss: 10.9711 - mae: 10.9711\n",
      "Epoch 52/100\n",
      "1/1 [==============================] - 0s 5ms/step - loss: 10.9700 - mae: 10.9700\n",
      "Epoch 53/100\n",
      "1/1 [==============================] - 0s 4ms/step - loss: 10.9688 - mae: 10.9688\n",
      "Epoch 54/100\n",
      "1/1 [==============================] - 0s 5ms/step - loss: 10.9677 - mae: 10.9677\n",
      "Epoch 55/100\n",
      "1/1 [==============================] - 0s 4ms/step - loss: 10.9666 - mae: 10.9666\n",
      "Epoch 56/100\n",
      "1/1 [==============================] - 0s 5ms/step - loss: 10.9655 - mae: 10.9655\n",
      "Epoch 57/100\n",
      "1/1 [==============================] - 0s 4ms/step - loss: 10.9644 - mae: 10.9644\n",
      "Epoch 58/100\n",
      "1/1 [==============================] - 0s 4ms/step - loss: 10.9633 - mae: 10.9633\n",
      "Epoch 59/100\n",
      "1/1 [==============================] - 0s 4ms/step - loss: 10.9622 - mae: 10.9622\n",
      "Epoch 60/100\n",
      "1/1 [==============================] - 0s 4ms/step - loss: 10.9611 - mae: 10.9611\n",
      "Epoch 61/100\n",
      "1/1 [==============================] - 0s 4ms/step - loss: 10.9600 - mae: 10.9600\n",
      "Epoch 62/100\n",
      "1/1 [==============================] - 0s 3ms/step - loss: 10.9589 - mae: 10.9589\n",
      "Epoch 63/100\n",
      "1/1 [==============================] - 0s 4ms/step - loss: 10.9578 - mae: 10.9578\n",
      "Epoch 64/100\n",
      "1/1 [==============================] - 0s 4ms/step - loss: 10.9567 - mae: 10.9567\n",
      "Epoch 65/100\n",
      "1/1 [==============================] - 0s 4ms/step - loss: 10.9556 - mae: 10.9556\n",
      "Epoch 66/100\n",
      "1/1 [==============================] - 0s 4ms/step - loss: 10.9545 - mae: 10.9545\n",
      "Epoch 67/100\n",
      "1/1 [==============================] - 0s 4ms/step - loss: 10.9534 - mae: 10.9534\n",
      "Epoch 68/100\n",
      "1/1 [==============================] - 0s 5ms/step - loss: 10.9523 - mae: 10.9523\n",
      "Epoch 69/100\n",
      "1/1 [==============================] - 0s 5ms/step - loss: 10.9512 - mae: 10.9512\n",
      "Epoch 70/100\n",
      "1/1 [==============================] - 0s 4ms/step - loss: 10.9501 - mae: 10.9501\n",
      "Epoch 71/100\n",
      "1/1 [==============================] - 0s 5ms/step - loss: 10.9490 - mae: 10.9490\n",
      "Epoch 72/100\n",
      "1/1 [==============================] - 0s 4ms/step - loss: 10.9479 - mae: 10.9479\n",
      "Epoch 73/100\n",
      "1/1 [==============================] - 0s 5ms/step - loss: 10.9468 - mae: 10.9468\n",
      "Epoch 74/100\n",
      "1/1 [==============================] - 0s 4ms/step - loss: 10.9457 - mae: 10.9457\n",
      "Epoch 75/100\n",
      "1/1 [==============================] - 0s 5ms/step - loss: 10.9446 - mae: 10.9446\n",
      "Epoch 76/100\n",
      "1/1 [==============================] - 0s 4ms/step - loss: 10.9435 - mae: 10.9435\n",
      "Epoch 77/100\n",
      "1/1 [==============================] - 0s 5ms/step - loss: 10.9423 - mae: 10.9423\n",
      "Epoch 78/100\n",
      "1/1 [==============================] - 0s 4ms/step - loss: 10.9412 - mae: 10.9412\n",
      "Epoch 79/100\n",
      "1/1 [==============================] - 0s 5ms/step - loss: 10.9401 - mae: 10.9401\n",
      "Epoch 80/100\n",
      "1/1 [==============================] - 0s 4ms/step - loss: 10.9390 - mae: 10.9390\n",
      "Epoch 81/100\n",
      "1/1 [==============================] - 0s 5ms/step - loss: 10.9379 - mae: 10.9379\n",
      "Epoch 82/100\n",
      "1/1 [==============================] - 0s 4ms/step - loss: 10.9368 - mae: 10.9368\n",
      "Epoch 83/100\n",
      "1/1 [==============================] - 0s 4ms/step - loss: 10.9357 - mae: 10.9357\n",
      "Epoch 84/100\n",
      "1/1 [==============================] - 0s 4ms/step - loss: 10.9346 - mae: 10.9346\n",
      "Epoch 85/100\n",
      "1/1 [==============================] - 0s 4ms/step - loss: 10.9335 - mae: 10.9335\n",
      "Epoch 86/100\n",
      "1/1 [==============================] - 0s 5ms/step - loss: 10.9324 - mae: 10.9324\n",
      "Epoch 87/100\n",
      "1/1 [==============================] - 0s 4ms/step - loss: 10.9313 - mae: 10.9313\n",
      "Epoch 88/100\n",
      "1/1 [==============================] - 0s 6ms/step - loss: 10.9302 - mae: 10.9302\n",
      "Epoch 89/100\n",
      "1/1 [==============================] - 0s 5ms/step - loss: 10.9291 - mae: 10.9291\n",
      "Epoch 90/100\n",
      "1/1 [==============================] - 0s 4ms/step - loss: 10.9280 - mae: 10.9280\n",
      "Epoch 91/100\n",
      "1/1 [==============================] - 0s 5ms/step - loss: 10.9269 - mae: 10.9269\n",
      "Epoch 92/100\n",
      "1/1 [==============================] - 0s 4ms/step - loss: 10.9258 - mae: 10.9258\n",
      "Epoch 93/100\n",
      "1/1 [==============================] - 0s 5ms/step - loss: 10.9247 - mae: 10.9247\n",
      "Epoch 94/100\n",
      "1/1 [==============================] - 0s 4ms/step - loss: 10.9236 - mae: 10.9236\n",
      "Epoch 95/100\n",
      "1/1 [==============================] - 0s 5ms/step - loss: 10.9225 - mae: 10.9225\n",
      "Epoch 96/100\n",
      "1/1 [==============================] - 0s 4ms/step - loss: 10.9214 - mae: 10.9214\n",
      "Epoch 97/100\n",
      "1/1 [==============================] - 0s 4ms/step - loss: 10.9202 - mae: 10.9202\n",
      "Epoch 98/100\n",
      "1/1 [==============================] - 0s 4ms/step - loss: 10.9191 - mae: 10.9191\n",
      "Epoch 99/100\n",
      "1/1 [==============================] - 0s 4ms/step - loss: 10.9180 - mae: 10.9180\n",
      "Epoch 100/100\n",
      "1/1 [==============================] - 0s 5ms/step - loss: 10.9169 - mae: 10.9169\n"
     ]
    },
    {
     "data": {
      "text/plain": [
       "<keras.callbacks.History at 0x2fe5501dca0>"
      ]
     },
     "execution_count": 8,
     "metadata": {},
     "output_type": "execute_result"
    }
   ],
   "source": [
    "#model.compile(loss=tf.keras.losses.MAE,\n",
    "#              optimizer=tf.keras.optimizers.Adam(learning_rate=.00001),\n",
    "#              metrics=['mae'])\n",
    "\n",
    "#model.fit(tf.expand_dims(X, axis=-1),y,epochs=100)"
   ]
  },
  {
   "cell_type": "code",
   "execution_count": 9,
   "metadata": {},
   "outputs": [
    {
     "data": {
      "text/plain": [
       "<tf.Tensor: shape=(1, 1), dtype=int16, numpy=array([[2]], dtype=int16)>"
      ]
     },
     "execution_count": 9,
     "metadata": {},
     "output_type": "execute_result"
    }
   ],
   "source": [
    "#y_pred=model.predict([[20.]])\n",
    "#p=tf.cast(y_pred,dtype=tf.int16)\n",
    "#p"
   ]
  },
  {
   "cell_type": "code",
   "execution_count": 10,
   "metadata": {},
   "outputs": [
    {
     "data": {
      "text/plain": [
       "<tf.Tensor: shape=(50,), dtype=int32, numpy=\n",
       "array([-100,  -96,  -92,  -88,  -84,  -80,  -76,  -72,  -68,  -64,  -60,\n",
       "        -56,  -52,  -48,  -44,  -40,  -36,  -32,  -28,  -24,  -20,  -16,\n",
       "        -12,   -8,   -4,    0,    4,    8,   12,   16,   20,   24,   28,\n",
       "         32,   36,   40,   44,   48,   52,   56,   60,   64,   68,   72,\n",
       "         76,   80,   84,   88,   92,   96])>"
      ]
     },
     "execution_count": 10,
     "metadata": {},
     "output_type": "execute_result"
    }
   ],
   "source": [
    "X_x=tf.range(-100,100,4)\n",
    "X_x"
   ]
  },
  {
   "cell_type": "code",
   "execution_count": 11,
   "metadata": {},
   "outputs": [
    {
     "data": {
      "text/plain": [
       "<tf.Tensor: shape=(50,), dtype=int32, numpy=\n",
       "array([-90, -86, -82, -78, -74, -70, -66, -62, -58, -54, -50, -46, -42,\n",
       "       -38, -34, -30, -26, -22, -18, -14, -10,  -6,  -2,   2,   6,  10,\n",
       "        14,  18,  22,  26,  30,  34,  38,  42,  46,  50,  54,  58,  62,\n",
       "        66,  70,  74,  78,  82,  86,  90,  94,  98, 102, 106])>"
      ]
     },
     "execution_count": 11,
     "metadata": {},
     "output_type": "execute_result"
    }
   ],
   "source": [
    "Y_y=X_x+10\n",
    "Y_y"
   ]
  },
  {
   "cell_type": "code",
   "execution_count": 12,
   "metadata": {},
   "outputs": [
    {
     "data": {
      "text/plain": [
       "<matplotlib.collections.PathCollection at 0x2ff4aed5610>"
      ]
     },
     "execution_count": 12,
     "metadata": {},
     "output_type": "execute_result"
    },
    {
     "data": {
      "image/png": "[encoded data removed]",
      "text/plain": [
       "<Figure size 432x288 with 1 Axes>"
      ]
     },
     "metadata": {
      "needs_background": "light"
     },
     "output_type": "display_data"
    }
   ],
   "source": [
    "import matplotlib.pyplot as plt\n",
    "plt.scatter(X_x,Y_y)"
   ]
  },
  {
   "cell_type": "code",
   "execution_count": 13,
   "metadata": {},
   "outputs": [
    {
     "name": "stdout",
     "output_type": "stream",
     "text": [
      "Epoch 1/100\n",
      "2/2 [==============================] - 0s 5ms/step - loss: 48.3638 - mae: 48.3638\n",
      "Epoch 2/100\n",
      "2/2 [==============================] - 0s 4ms/step - loss: 48.3494 - mae: 48.3494\n",
      "Epoch 3/100\n",
      "2/2 [==============================] - 0s 4ms/step - loss: 48.3298 - mae: 48.3298\n",
      "Epoch 4/100\n",
      "2/2 [==============================] - 0s 5ms/step - loss: 48.3078 - mae: 48.3078\n",
      "Epoch 5/100\n",
      "2/2 [==============================] - 0s 3ms/step - loss: 48.2840 - mae: 48.2840\n",
      "Epoch 6/100\n",
      "2/2 [==============================] - 0s 5ms/step - loss: 48.2598 - mae: 48.2598\n",
      "Epoch 7/100\n",
      "2/2 [==============================] - 0s 3ms/step - loss: 48.2357 - mae: 48.2357\n",
      "Epoch 8/100\n",
      "2/2 [==============================] - 0s 4ms/step - loss: 48.2095 - mae: 48.2095\n",
      "Epoch 9/100\n",
      "2/2 [==============================] - 0s 4ms/step - loss: 48.1863 - mae: 48.1863\n",
      "Epoch 10/100\n",
      "2/2 [==============================] - 0s 5ms/step - loss: 48.1601 - mae: 48.1601\n",
      "Epoch 11/100\n",
      "2/2 [==============================] - 0s 4ms/step - loss: 48.1363 - mae: 48.1363\n",
      "Epoch 12/100\n",
      "2/2 [==============================] - 0s 4ms/step - loss: 48.1104 - mae: 48.1104\n",
      "Epoch 13/100\n",
      "2/2 [==============================] - 0s 5ms/step - loss: 48.0865 - mae: 48.0865\n",
      "Epoch 14/100\n",
      "2/2 [==============================] - 0s 4ms/step - loss: 48.0636 - mae: 48.0636\n",
      "Epoch 15/100\n",
      "2/2 [==============================] - 0s 5ms/step - loss: 48.0397 - mae: 48.0397\n",
      "Epoch 16/100\n",
      "2/2 [==============================] - 0s 4ms/step - loss: 48.0167 - mae: 48.0167\n",
      "Epoch 17/100\n",
      "2/2 [==============================] - 0s 4ms/step - loss: 47.9936 - mae: 47.9936\n",
      "Epoch 18/100\n",
      "2/2 [==============================] - 0s 4ms/step - loss: 47.9711 - mae: 47.9711\n",
      "Epoch 19/100\n",
      "2/2 [==============================] - 0s 4ms/step - loss: 47.9484 - mae: 47.9484\n",
      "Epoch 20/100\n",
      "2/2 [==============================] - 0s 3ms/step - loss: 47.9267 - mae: 47.9267\n",
      "Epoch 21/100\n",
      "2/2 [==============================] - 0s 4ms/step - loss: 47.9054 - mae: 47.9054\n",
      "Epoch 22/100\n",
      "2/2 [==============================] - 0s 4ms/step - loss: 47.8833 - mae: 47.8833\n",
      "Epoch 23/100\n",
      "2/2 [==============================] - 0s 4ms/step - loss: 47.8627 - mae: 47.8627\n",
      "Epoch 24/100\n",
      "2/2 [==============================] - 0s 3ms/step - loss: 47.8417 - mae: 47.8417\n",
      "Epoch 25/100\n",
      "2/2 [==============================] - 0s 5ms/step - loss: 47.8217 - mae: 47.8217\n",
      "Epoch 26/100\n",
      "2/2 [==============================] - 0s 4ms/step - loss: 47.8011 - mae: 47.8011\n",
      "Epoch 27/100\n",
      "2/2 [==============================] - 0s 4ms/step - loss: 47.7807 - mae: 47.7807\n",
      "Epoch 28/100\n",
      "2/2 [==============================] - 0s 4ms/step - loss: 47.7604 - mae: 47.7604\n",
      "Epoch 29/100\n",
      "2/2 [==============================] - 0s 4ms/step - loss: 47.7412 - mae: 47.7412\n",
      "Epoch 30/100\n",
      "2/2 [==============================] - 0s 4ms/step - loss: 47.7222 - mae: 47.7222\n",
      "Epoch 31/100\n",
      "2/2 [==============================] - 0s 4ms/step - loss: 47.7031 - mae: 47.7031\n",
      "Epoch 32/100\n",
      "2/2 [==============================] - 0s 4ms/step - loss: 47.6836 - mae: 47.6836\n",
      "Epoch 33/100\n",
      "2/2 [==============================] - 0s 4ms/step - loss: 47.6647 - mae: 47.6647\n",
      "Epoch 34/100\n",
      "2/2 [==============================] - 0s 4ms/step - loss: 47.6457 - mae: 47.6457\n",
      "Epoch 35/100\n",
      "2/2 [==============================] - 0s 4ms/step - loss: 47.6270 - mae: 47.6270\n",
      "Epoch 36/100\n",
      "2/2 [==============================] - 0s 4ms/step - loss: 47.6092 - mae: 47.6092\n",
      "Epoch 37/100\n",
      "2/2 [==============================] - 0s 4ms/step - loss: 47.5910 - mae: 47.5910\n",
      "Epoch 38/100\n",
      "2/2 [==============================] - 0s 4ms/step - loss: 47.5726 - mae: 47.5726\n",
      "Epoch 39/100\n",
      "2/2 [==============================] - 0s 5ms/step - loss: 47.5538 - mae: 47.5538\n",
      "Epoch 40/100\n",
      "2/2 [==============================] - 0s 3ms/step - loss: 47.5366 - mae: 47.5366\n",
      "Epoch 41/100\n",
      "2/2 [==============================] - 0s 4ms/step - loss: 47.5177 - mae: 47.5177\n",
      "Epoch 42/100\n",
      "2/2 [==============================] - 0s 5ms/step - loss: 47.5001 - mae: 47.5001\n",
      "Epoch 43/100\n",
      "2/2 [==============================] - 0s 4ms/step - loss: 47.4823 - mae: 47.4823\n",
      "Epoch 44/100\n",
      "2/2 [==============================] - 0s 4ms/step - loss: 47.4657 - mae: 47.4657\n",
      "Epoch 45/100\n",
      "2/2 [==============================] - 0s 4ms/step - loss: 47.4477 - mae: 47.4477\n",
      "Epoch 46/100\n",
      "2/2 [==============================] - 0s 4ms/step - loss: 47.4296 - mae: 47.4296\n",
      "Epoch 47/100\n",
      "2/2 [==============================] - 0s 4ms/step - loss: 47.4129 - mae: 47.4129\n",
      "Epoch 48/100\n",
      "2/2 [==============================] - 0s 4ms/step - loss: 47.3951 - mae: 47.3951\n",
      "Epoch 49/100\n",
      "2/2 [==============================] - 0s 4ms/step - loss: 47.3780 - mae: 47.3780\n",
      "Epoch 50/100\n",
      "2/2 [==============================] - 0s 5ms/step - loss: 47.3611 - mae: 47.3611\n",
      "Epoch 51/100\n",
      "2/2 [==============================] - 0s 3ms/step - loss: 47.3441 - mae: 47.3441\n",
      "Epoch 52/100\n",
      "2/2 [==============================] - 0s 5ms/step - loss: 47.3274 - mae: 47.3274\n",
      "Epoch 53/100\n",
      "2/2 [==============================] - 0s 4ms/step - loss: 47.3103 - mae: 47.3103\n",
      "Epoch 54/100\n",
      "2/2 [==============================] - 0s 5ms/step - loss: 47.2936 - mae: 47.2936\n",
      "Epoch 55/100\n",
      "2/2 [==============================] - 0s 5ms/step - loss: 47.2770 - mae: 47.2770\n",
      "Epoch 56/100\n",
      "2/2 [==============================] - 0s 4ms/step - loss: 47.2608 - mae: 47.2608\n",
      "Epoch 57/100\n",
      "2/2 [==============================] - 0s 4ms/step - loss: 47.2441 - mae: 47.2441\n",
      "Epoch 58/100\n",
      "2/2 [==============================] - 0s 3ms/step - loss: 47.2277 - mae: 47.2277\n",
      "Epoch 59/100\n",
      "2/2 [==============================] - 0s 4ms/step - loss: 47.2117 - mae: 47.2117\n",
      "Epoch 60/100\n",
      "2/2 [==============================] - 0s 4ms/step - loss: 47.1951 - mae: 47.1951\n",
      "Epoch 61/100\n",
      "2/2 [==============================] - 0s 4ms/step - loss: 47.1791 - mae: 47.1791\n",
      "Epoch 62/100\n",
      "2/2 [==============================] - 0s 4ms/step - loss: 47.1631 - mae: 47.1631\n",
      "Epoch 63/100\n",
      "2/2 [==============================] - 0s 4ms/step - loss: 47.1467 - mae: 47.1467\n",
      "Epoch 64/100\n",
      "2/2 [==============================] - 0s 3ms/step - loss: 47.1307 - mae: 47.1307\n",
      "Epoch 65/100\n",
      "2/2 [==============================] - 0s 4ms/step - loss: 47.1146 - mae: 47.1146\n",
      "Epoch 66/100\n",
      "2/2 [==============================] - 0s 4ms/step - loss: 47.0990 - mae: 47.0990\n",
      "Epoch 67/100\n",
      "2/2 [==============================] - 0s 5ms/step - loss: 47.0830 - mae: 47.0830\n",
      "Epoch 68/100\n",
      "2/2 [==============================] - 0s 4ms/step - loss: 47.0667 - mae: 47.0667\n",
      "Epoch 69/100\n",
      "2/2 [==============================] - 0s 3ms/step - loss: 47.0511 - mae: 47.0511\n",
      "Epoch 70/100\n",
      "2/2 [==============================] - 0s 4ms/step - loss: 47.0345 - mae: 47.0345\n",
      "Epoch 71/100\n",
      "2/2 [==============================] - 0s 5ms/step - loss: 47.0192 - mae: 47.0192\n",
      "Epoch 72/100\n",
      "2/2 [==============================] - 0s 4ms/step - loss: 47.0030 - mae: 47.0030\n",
      "Epoch 73/100\n",
      "2/2 [==============================] - 0s 4ms/step - loss: 46.9876 - mae: 46.9876\n",
      "Epoch 74/100\n",
      "2/2 [==============================] - 0s 4ms/step - loss: 46.9713 - mae: 46.9713\n",
      "Epoch 75/100\n",
      "2/2 [==============================] - 0s 4ms/step - loss: 46.9558 - mae: 46.9558\n",
      "Epoch 76/100\n",
      "2/2 [==============================] - 0s 3ms/step - loss: 46.9401 - mae: 46.9401\n",
      "Epoch 77/100\n",
      "2/2 [==============================] - 0s 4ms/step - loss: 46.9245 - mae: 46.9245\n",
      "Epoch 78/100\n",
      "2/2 [==============================] - 0s 5ms/step - loss: 46.9086 - mae: 46.9086\n",
      "Epoch 79/100\n",
      "2/2 [==============================] - 0s 4ms/step - loss: 46.8926 - mae: 46.8926\n",
      "Epoch 80/100\n",
      "2/2 [==============================] - 0s 4ms/step - loss: 46.8776 - mae: 46.8776\n",
      "Epoch 81/100\n",
      "2/2 [==============================] - 0s 4ms/step - loss: 46.8620 - mae: 46.8620\n",
      "Epoch 82/100\n",
      "2/2 [==============================] - 0s 4ms/step - loss: 46.8463 - mae: 46.8463\n",
      "Epoch 83/100\n",
      "2/2 [==============================] - 0s 4ms/step - loss: 46.8308 - mae: 46.8308\n",
      "Epoch 84/100\n",
      "2/2 [==============================] - 0s 4ms/step - loss: 46.8152 - mae: 46.8152\n",
      "Epoch 85/100\n",
      "2/2 [==============================] - 0s 4ms/step - loss: 46.8000 - mae: 46.8000\n",
      "Epoch 86/100\n",
      "2/2 [==============================] - 0s 4ms/step - loss: 46.7847 - mae: 46.7847\n",
      "Epoch 87/100\n",
      "2/2 [==============================] - 0s 3ms/step - loss: 46.7690 - mae: 46.7690\n",
      "Epoch 88/100\n",
      "2/2 [==============================] - 0s 3ms/step - loss: 46.7544 - mae: 46.7544\n",
      "Epoch 89/100\n",
      "2/2 [==============================] - 0s 4ms/step - loss: 46.7386 - mae: 46.7386\n",
      "Epoch 90/100\n",
      "2/2 [==============================] - 0s 8ms/step - loss: 46.7238 - mae: 46.7238\n",
      "Epoch 91/100\n",
      "2/2 [==============================] - 0s 3ms/step - loss: 46.7085 - mae: 46.7085\n",
      "Epoch 92/100\n",
      "2/2 [==============================] - 0s 3ms/step - loss: 46.6936 - mae: 46.6936\n",
      "Epoch 93/100\n",
      "2/2 [==============================] - 0s 4ms/step - loss: 46.6782 - mae: 46.6782\n",
      "Epoch 94/100\n",
      "2/2 [==============================] - 0s 4ms/step - loss: 46.6632 - mae: 46.6632\n",
      "Epoch 95/100\n",
      "2/2 [==============================] - 0s 5ms/step - loss: 46.6483 - mae: 46.6483\n",
      "Epoch 96/100\n",
      "2/2 [==============================] - 0s 4ms/step - loss: 46.6334 - mae: 46.6334\n",
      "Epoch 97/100\n",
      "2/2 [==============================] - 0s 3ms/step - loss: 46.6184 - mae: 46.6184\n",
      "Epoch 98/100\n",
      "2/2 [==============================] - 0s 4ms/step - loss: 46.6033 - mae: 46.6033\n",
      "Epoch 99/100\n",
      "2/2 [==============================] - 0s 4ms/step - loss: 46.5884 - mae: 46.5884\n",
      "Epoch 100/100\n",
      "2/2 [==============================] - 0s 3ms/step - loss: 46.5739 - mae: 46.5739\n"
     ]
    },
    {
     "data": {
      "text/plain": [
       "<keras.callbacks.History at 0x2ff4af07eb0>"
      ]
     },
     "execution_count": 13,
     "metadata": {},
     "output_type": "execute_result"
    }
   ],
   "source": [
    "model.fit(tf.expand_dims(X_x,axis=-1),Y_y,epochs=100)"
   ]
  },
  {
   "cell_type": "code",
   "execution_count": 14,
   "metadata": {},
   "outputs": [
    {
     "data": {
      "text/plain": [
       "array([[0.34686908]], dtype=float32)"
      ]
     },
     "execution_count": 14,
     "metadata": {},
     "output_type": "execute_result"
    }
   ],
   "source": [
    "model.predict([[2.]])"
   ]
  },
  {
   "cell_type": "code",
   "execution_count": 15,
   "metadata": {},
   "outputs": [
    {
     "data": {
      "text/plain": [
       "<matplotlib.collections.PathCollection at 0x2ff4e82ab50>"
      ]
     },
     "execution_count": 15,
     "metadata": {},
     "output_type": "execute_result"
    },
    {
     "data": {
      "image/png": "[encoded data removed]",
      "text/plain": [
       "<Figure size 432x288 with 1 Axes>"
      ]
     },
     "metadata": {
      "needs_background": "light"
     },
     "output_type": "display_data"
    }
   ],
   "source": [
    "plt.scatter(X_x,Y_y)"
   ]
  },
  {
   "cell_type": "code",
   "execution_count": 16,
   "metadata": {},
   "outputs": [
    {
     "data": {
      "text/plain": [
       "TensorShape([50])"
      ]
     },
     "execution_count": 16,
     "metadata": {},
     "output_type": "execute_result"
    }
   ],
   "source": [
    "X_x.shape"
   ]
  },
  {
   "cell_type": "code",
   "execution_count": 17,
   "metadata": {},
   "outputs": [
    {
     "data": {
      "text/plain": [
       "(40, TensorShape([40]), TensorShape([10]), TensorShape([10]))"
      ]
     },
     "execution_count": 17,
     "metadata": {},
     "output_type": "execute_result"
    }
   ],
   "source": [
    "X_x_train=X_x[:40]\n",
    "Y_y_train=Y_y[:40]\n",
    "X_x_test=X_x[40:]\n",
    "Y_y_test=Y_y[40:]\n",
    "len(X_x_train),Y_y_train.shape,X_x_test.shape,Y_y_test.shape"
   ]
  },
  {
   "cell_type": "code",
   "execution_count": 18,
   "metadata": {},
   "outputs": [
    {
     "data": {
      "text/plain": [
       "<matplotlib.legend.Legend at 0x2ff4ff12c10>"
      ]
     },
     "execution_count": 18,
     "metadata": {},
     "output_type": "execute_result"
    },
    {
     "data": {
      "image/png": "[encoded data removed]",
      "text/plain": [
       "<Figure size 720x504 with 1 Axes>"
      ]
     },
     "metadata": {
      "needs_background": "light"
     },
     "output_type": "display_data"
    }
   ],
   "source": [
    "plt.figure(figsize=(10,7))\n",
    "plt.scatter(X_x_train,Y_y_train,c='b',label=\"Training Data\")\n",
    "plt.scatter(X_x_test,Y_y_test,c='g',label=\"Testing data\")\n",
    "plt.legend()"
   ]
  },
  {
   "cell_type": "code",
   "execution_count": 45,
   "metadata": {},
   "outputs": [],
   "source": [
    "tf.random.set_seed(42)\n",
    "model=tf.keras.Sequential([\n",
    "    tf.keras.layers.Dense(100,input_shape=[1],name=\"input_layer\"),\n",
    "    tf.keras.layers.Dense(1,input_shape=[1],name='output_layer')\n",
    "],name='model_1')\n",
    "model.compile(loss=tf.keras.losses.MAE,\n",
    "             optimizer=tf.keras.optimizers.Adam(learning_rate=.01),\n",
    "             metrics=['mae'])\n",
    "model.build()"
   ]
  },
  {
   "cell_type": "code",
   "execution_count": 31,
   "metadata": {},
   "outputs": [
    {
     "name": "stdout",
     "output_type": "stream",
     "text": [
      "Model: \"model_1\"\n",
      "_________________________________________________________________\n",
      " Layer (type)                Output Shape              Param #   \n",
      "=================================================================\n",
      " input_layer (Dense)         (None, 100)               200       \n",
      "                                                                 \n",
      " output_layer (Dense)        (None, 1)                 101       \n",
      "                                                                 \n",
      "=================================================================\n",
      "Total params: 301\n",
      "Trainable params: 301\n",
      "Non-trainable params: 0\n",
      "_________________________________________________________________\n"
     ]
    }
   ],
   "source": [
    "model.summary()"
   ]
  },
  {
   "cell_type": "markdown",
   "metadata": {},
   "source": [
    "Total params --> total numbers of parameter in the model\n",
    "\n",
    "Trainable params --> these are the parameters(patterns) the model can update as it trains. \n",
    "\n",
    "Non trainable params --> there parameters are not updated during training ( these are occured when we import another model using transfer learning)"
   ]
  },
  {
   "cell_type": "code",
   "execution_count": 46,
   "metadata": {},
   "outputs": [
    {
     "data": {
      "text/plain": [
       "<keras.callbacks.History at 0x2ff5f7cb4c0>"
      ]
     },
     "execution_count": 46,
     "metadata": {},
     "output_type": "execute_result"
    }
   ],
   "source": [
    "model.fit(X_x_train,Y_y_train,epochs=100,verbose=0)"
   ]
  },
  {
   "cell_type": "code",
   "execution_count": 33,
   "metadata": {},
   "outputs": [
    {
     "name": "stdout",
     "output_type": "stream",
     "text": [
      "Model: \"model_1\"\n",
      "_________________________________________________________________\n",
      " Layer (type)                Output Shape              Param #   \n",
      "=================================================================\n",
      " input_layer (Dense)         (None, 100)               200       \n",
      "                                                                 \n",
      " output_layer (Dense)        (None, 1)                 101       \n",
      "                                                                 \n",
      "=================================================================\n",
      "Total params: 301\n",
      "Trainable params: 301\n",
      "Non-trainable params: 0\n",
      "_________________________________________________________________\n"
     ]
    }
   ],
   "source": [
    "model.summary()"
   ]
  },
  {
   "cell_type": "code",
   "execution_count": 23,
   "metadata": {},
   "outputs": [
    {
     "data": {
      "text/plain": [
       "'2.8.0'"
      ]
     },
     "execution_count": 23,
     "metadata": {},
     "output_type": "execute_result"
    }
   ],
   "source": [
    "tf.__version__"
   ]
  },
  {
   "cell_type": "code",
   "execution_count": 34,
   "metadata": {},
   "outputs": [
    {
     "data": {
      "image/png": "[encoded data removed]",
      "text/plain": [
       "<IPython.core.display.Image object>"
      ]
     },
     "execution_count": 34,
     "metadata": {},
     "output_type": "execute_result"
    }
   ],
   "source": [
    "tf.keras.utils.plot_model(model=model,show_shapes=True)"
   ]
  },
  {
   "cell_type": "code",
   "execution_count": 47,
   "metadata": {},
   "outputs": [
    {
     "name": "stdout",
     "output_type": "stream",
     "text": [
      "WARNING:tensorflow:5 out of the last 6 calls to <function Model.make_predict_function.<locals>.predict_function at 0x000002FF5F7F6430> triggered tf.function retracing. Tracing is expensive and the excessive number of tracings could be due to (1) creating @tf.function repeatedly in a loop, (2) passing tensors with different shapes, (3) passing Python objects instead of tensors. For (1), please define your @tf.function outside of the loop. For (2), @tf.function has experimental_relax_shapes=True option that relaxes argument shapes that can avoid unnecessary retracing. For (3), please refer to https://www.tensorflow.org/guide/function#controlling_retracing and https://www.tensorflow.org/api_docs/python/tf/function for  more details.\n"
     ]
    },
    {
     "data": {
      "text/plain": [
       "array([[ 70.97151 ],\n",
       "       [ 75.02937 ],\n",
       "       [ 79.087234],\n",
       "       [ 83.145096],\n",
       "       [ 87.20296 ],\n",
       "       [ 91.26082 ],\n",
       "       [ 95.31868 ],\n",
       "       [ 99.37653 ],\n",
       "       [103.4344  ],\n",
       "       [107.49227 ]], dtype=float32)"
      ]
     },
     "execution_count": 47,
     "metadata": {},
     "output_type": "execute_result"
    }
   ],
   "source": [
    "Y_y_pred=model.predict(X_x_test)\n",
    "Y_y_pred"
   ]
  },
  {
   "cell_type": "code",
   "execution_count": 42,
   "metadata": {},
   "outputs": [
    {
     "data": {
      "text/plain": [
       "<tf.Tensor: shape=(10,), dtype=int32, numpy=array([ 70,  74,  78,  82,  86,  90,  94,  98, 102, 106])>"
      ]
     },
     "execution_count": 42,
     "metadata": {},
     "output_type": "execute_result"
    }
   ],
   "source": [
    "Y_y_test"
   ]
  },
  {
   "cell_type": "code",
   "execution_count": 49,
   "metadata": {},
   "outputs": [],
   "source": [
    "def plot_prediction(train_data=X_x_train,\n",
    "                    train_labels=Y_y_train,\n",
    "                    test_data=X_x_test,\n",
    "                    test_labels=Y_y_test,\n",
    "                    predictions=Y_y_pred):\n",
    "    plt.figure(figsize=(10,7))\n",
    "    plt.scatter(train_data,train_labels,c='b',label=\"Training data\")\n",
    "    plt.scatter(test_data,test_labels,c='g',label=\"Testing data\")\n",
    "    plt.scatter(test_data,predictions,c='r',label='predictions')\n",
    "    plt.legend()\n"
   ]
  },
  {
   "cell_type": "code",
   "execution_count": 50,
   "metadata": {},
   "outputs": [
    {
     "data": {
      "image/png": "[encoded data removed]",
      "text/plain": [
       "<Figure size 720x504 with 1 Axes>"
      ]
     },
     "metadata": {
      "needs_background": "light"
     },
     "output_type": "display_data"
    }
   ],
   "source": [
    "plot_prediction()"
   ]
  },
  {
   "cell_type": "code",
   "execution_count": 51,
   "metadata": {},
   "outputs": [
    {
     "name": "stdout",
     "output_type": "stream",
     "text": [
      "1/1 [==============================] - 0s 108ms/step - loss: 1.2319 - mae: 1.2319\n"
     ]
    },
    {
     "data": {
      "text/plain": [
       "[1.2318878173828125, 1.2318878173828125]"
      ]
     },
     "execution_count": 51,
     "metadata": {},
     "output_type": "execute_result"
    }
   ],
   "source": [
    "model.evaluate(X_x_test,Y_y_test)"
   ]
  },
  {
   "cell_type": "code",
   "execution_count": null,
   "metadata": {},
   "outputs": [],
   "source": []
  }
 ],
 "metadata": {
  "interpreter": {
   "hash": "45188fdd5ac0e24eab62f615d8936d2e1a0d1449b0ffb604ea30a0fd314c4f97"
  },
  "kernelspec": {
   "display_name": "Python 3.9.9 64-bit",
   "language": "python",
   "name": "python3"
  },
  "language_info": {
   "codemirror_mode": {
    "name": "ipython",
    "version": 3
   },
   "file_extension": ".py",
   "mimetype": "text/x-python",
   "name": "python",
   "nbconvert_exporter": "python",
   "pygments_lexer": "ipython3",
   "version": "3.9.9"
  },
  "orig_nbformat": 4
 },
 "nbformat": 4,
 "nbformat_minor": 2
}
